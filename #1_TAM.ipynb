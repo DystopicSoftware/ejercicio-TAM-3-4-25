{
  "nbformat": 4,
  "nbformat_minor": 0,
  "metadata": {
    "colab": {
      "provenance": [],
      "authorship_tag": "ABX9TyPw/s4Q7y4xPA/CL8eRpy6t",
      "include_colab_link": true
    },
    "kernelspec": {
      "name": "python3",
      "display_name": "Python 3"
    },
    "language_info": {
      "name": "python"
    },
    "widgets": {
      "application/vnd.jupyter.widget-state+json": {
        "75ae617a2d6f41c683bc06e0fc82a53d": {
          "model_module": "@jupyter-widgets/controls",
          "model_name": "VBoxModel",
          "model_module_version": "1.5.0",
          "state": {
            "_dom_classes": [
              "widget-interact"
            ],
            "_model_module": "@jupyter-widgets/controls",
            "_model_module_version": "1.5.0",
            "_model_name": "VBoxModel",
            "_view_count": null,
            "_view_module": "@jupyter-widgets/controls",
            "_view_module_version": "1.5.0",
            "_view_name": "VBoxView",
            "box_style": "",
            "children": [
              "IPY_MODEL_67bc5fc870434c919dbc78dc20782684",
              "IPY_MODEL_695a4b01f293445ba846b19ca23f7d4f"
            ],
            "layout": "IPY_MODEL_a464cdf778ed4dba9bdae4bbe3595ad4"
          }
        },
        "67bc5fc870434c919dbc78dc20782684": {
          "model_module": "@jupyter-widgets/controls",
          "model_name": "RadioButtonsModel",
          "model_module_version": "1.5.0",
          "state": {
            "_dom_classes": [],
            "_model_module": "@jupyter-widgets/controls",
            "_model_module_version": "1.5.0",
            "_model_name": "RadioButtonsModel",
            "_options_labels": [
              "naranja",
              "manzana"
            ],
            "_view_count": null,
            "_view_module": "@jupyter-widgets/controls",
            "_view_module_version": "1.5.0",
            "_view_name": "RadioButtonsView",
            "description": "Selecciona una fruta:",
            "description_tooltip": null,
            "disabled": false,
            "index": 0,
            "layout": "IPY_MODEL_c05f15aff02d4ca68ff9ba5ccbeb6e08",
            "style": "IPY_MODEL_6ea52cd96e214847bd3a92a466591fda"
          }
        },
        "695a4b01f293445ba846b19ca23f7d4f": {
          "model_module": "@jupyter-widgets/output",
          "model_name": "OutputModel",
          "model_module_version": "1.0.0",
          "state": {
            "_dom_classes": [],
            "_model_module": "@jupyter-widgets/output",
            "_model_module_version": "1.0.0",
            "_model_name": "OutputModel",
            "_view_count": null,
            "_view_module": "@jupyter-widgets/output",
            "_view_module_version": "1.0.0",
            "_view_name": "OutputView",
            "layout": "IPY_MODEL_d1f871ab464749c28f87c701054a56ab",
            "msg_id": "",
            "outputs": [
              {
                "output_type": "stream",
                "name": "stdout",
                "text": [
                  "Probabilidad de que la fruta sea manzana (P(F=a)): 0.5500\n",
                  "Probabilidad de que la fruta sea naranja (P(F=o)): 0.4500\n",
                  "\n",
                  "Probabilidades posteriores dado que la fruta es naranja:\n",
                  "P(B=r|F=o): 0.6667\n",
                  "P(B=b|F=o): 0.3333\n"
                ]
              }
            ]
          }
        },
        "a464cdf778ed4dba9bdae4bbe3595ad4": {
          "model_module": "@jupyter-widgets/base",
          "model_name": "LayoutModel",
          "model_module_version": "1.2.0",
          "state": {
            "_model_module": "@jupyter-widgets/base",
            "_model_module_version": "1.2.0",
            "_model_name": "LayoutModel",
            "_view_count": null,
            "_view_module": "@jupyter-widgets/base",
            "_view_module_version": "1.2.0",
            "_view_name": "LayoutView",
            "align_content": null,
            "align_items": null,
            "align_self": null,
            "border": null,
            "bottom": null,
            "display": null,
            "flex": null,
            "flex_flow": null,
            "grid_area": null,
            "grid_auto_columns": null,
            "grid_auto_flow": null,
            "grid_auto_rows": null,
            "grid_column": null,
            "grid_gap": null,
            "grid_row": null,
            "grid_template_areas": null,
            "grid_template_columns": null,
            "grid_template_rows": null,
            "height": null,
            "justify_content": null,
            "justify_items": null,
            "left": null,
            "margin": null,
            "max_height": null,
            "max_width": null,
            "min_height": null,
            "min_width": null,
            "object_fit": null,
            "object_position": null,
            "order": null,
            "overflow": null,
            "overflow_x": null,
            "overflow_y": null,
            "padding": null,
            "right": null,
            "top": null,
            "visibility": null,
            "width": null
          }
        },
        "c05f15aff02d4ca68ff9ba5ccbeb6e08": {
          "model_module": "@jupyter-widgets/base",
          "model_name": "LayoutModel",
          "model_module_version": "1.2.0",
          "state": {
            "_model_module": "@jupyter-widgets/base",
            "_model_module_version": "1.2.0",
            "_model_name": "LayoutModel",
            "_view_count": null,
            "_view_module": "@jupyter-widgets/base",
            "_view_module_version": "1.2.0",
            "_view_name": "LayoutView",
            "align_content": null,
            "align_items": null,
            "align_self": null,
            "border": null,
            "bottom": null,
            "display": null,
            "flex": null,
            "flex_flow": null,
            "grid_area": null,
            "grid_auto_columns": null,
            "grid_auto_flow": null,
            "grid_auto_rows": null,
            "grid_column": null,
            "grid_gap": null,
            "grid_row": null,
            "grid_template_areas": null,
            "grid_template_columns": null,
            "grid_template_rows": null,
            "height": null,
            "justify_content": null,
            "justify_items": null,
            "left": null,
            "margin": null,
            "max_height": null,
            "max_width": null,
            "min_height": null,
            "min_width": null,
            "object_fit": null,
            "object_position": null,
            "order": null,
            "overflow": null,
            "overflow_x": null,
            "overflow_y": null,
            "padding": null,
            "right": null,
            "top": null,
            "visibility": null,
            "width": null
          }
        },
        "6ea52cd96e214847bd3a92a466591fda": {
          "model_module": "@jupyter-widgets/controls",
          "model_name": "DescriptionStyleModel",
          "model_module_version": "1.5.0",
          "state": {
            "_model_module": "@jupyter-widgets/controls",
            "_model_module_version": "1.5.0",
            "_model_name": "DescriptionStyleModel",
            "_view_count": null,
            "_view_module": "@jupyter-widgets/base",
            "_view_module_version": "1.2.0",
            "_view_name": "StyleView",
            "description_width": ""
          }
        },
        "d1f871ab464749c28f87c701054a56ab": {
          "model_module": "@jupyter-widgets/base",
          "model_name": "LayoutModel",
          "model_module_version": "1.2.0",
          "state": {
            "_model_module": "@jupyter-widgets/base",
            "_model_module_version": "1.2.0",
            "_model_name": "LayoutModel",
            "_view_count": null,
            "_view_module": "@jupyter-widgets/base",
            "_view_module_version": "1.2.0",
            "_view_name": "LayoutView",
            "align_content": null,
            "align_items": null,
            "align_self": null,
            "border": null,
            "bottom": null,
            "display": null,
            "flex": null,
            "flex_flow": null,
            "grid_area": null,
            "grid_auto_columns": null,
            "grid_auto_flow": null,
            "grid_auto_rows": null,
            "grid_column": null,
            "grid_gap": null,
            "grid_row": null,
            "grid_template_areas": null,
            "grid_template_columns": null,
            "grid_template_rows": null,
            "height": null,
            "justify_content": null,
            "justify_items": null,
            "left": null,
            "margin": null,
            "max_height": null,
            "max_width": null,
            "min_height": null,
            "min_width": null,
            "object_fit": null,
            "object_position": null,
            "order": null,
            "overflow": null,
            "overflow_x": null,
            "overflow_y": null,
            "padding": null,
            "right": null,
            "top": null,
            "visibility": null,
            "width": null
          }
        }
      }
    }
  },
  "cells": [
    {
      "cell_type": "markdown",
      "metadata": {
        "id": "view-in-github",
        "colab_type": "text"
      },
      "source": [
        "<a href=\"https://colab.research.google.com/github/DystopicSoftware/ejercicio-TAM-3-4-25/blob/main/%231_TAM.ipynb\" target=\"_parent\"><img src=\"https://colab.research.google.com/assets/colab-badge.svg\" alt=\"Open In Colab\"/></a>"
      ]
    },
    {
      "cell_type": "code",
      "execution_count": 1,
      "metadata": {
        "colab": {
          "base_uri": "https://localhost:8080/",
          "height": 185,
          "referenced_widgets": [
            "75ae617a2d6f41c683bc06e0fc82a53d",
            "67bc5fc870434c919dbc78dc20782684",
            "695a4b01f293445ba846b19ca23f7d4f",
            "a464cdf778ed4dba9bdae4bbe3595ad4",
            "c05f15aff02d4ca68ff9ba5ccbeb6e08",
            "6ea52cd96e214847bd3a92a466591fda",
            "d1f871ab464749c28f87c701054a56ab"
          ]
        },
        "id": "I3phmi7OUEL0",
        "outputId": "a205a8e5-0208-4efd-f681-2233db39eca7"
      },
      "outputs": [
        {
          "output_type": "display_data",
          "data": {
            "text/plain": [
              "interactive(children=(RadioButtons(description='Selecciona una fruta:', options=('naranja', 'manzana'), value=…"
            ],
            "application/vnd.jupyter.widget-view+json": {
              "version_major": 2,
              "version_minor": 0,
              "model_id": "75ae617a2d6f41c683bc06e0fc82a53d"
            }
          },
          "metadata": {}
        }
      ],
      "source": [
        "import ipywidgets as widgets\n",
        "from IPython.display import display\n",
        "import numpy as np\n",
        "\n",
        "# Probabilidades a priori de las cajas\n",
        "P_r = 0.4  # P(B=r)\n",
        "P_b = 0.6  # P(B=b)\n",
        "\n",
        "# Distribución de frutas en cada caja\n",
        "# Caja roja: 6 naranjas (o), 2 manzanas (a)\n",
        "# Caja azul: 1 naranja (o), 3 manzanas (a)\n",
        "\n",
        "# Calculamos las probabilidades condicionales P(F|B)\n",
        "# Para la caja roja\n",
        "total_roja = 6 + 2\n",
        "P_o_given_r = 6 / total_roja  # P(F=o|B=r)\n",
        "P_a_given_r = 2 / total_roja  # P(F=a|B=r)\n",
        "\n",
        "# Para la caja azul\n",
        "total_azul = 1 + 3\n",
        "P_o_given_b = 1 / total_azul  # P(F=o|B=b)\n",
        "P_a_given_b = 3 / total_azul  # P(F=a|B=b)\n",
        "\n",
        "def calcular_probabilidades(fruta_seleccionada):\n",
        "    # Calculamos P(F=o) y P(F=a) usando probabilidad total\n",
        "    P_o = P_o_given_r * P_r + P_o_given_b * P_b\n",
        "    P_a = P_a_given_r * P_r + P_a_given_b * P_b\n",
        "\n",
        "    # Calculamos las probabilidades posteriores P(B|F)\n",
        "    if fruta_seleccionada == 'naranja':\n",
        "        # P(B=r|F=o) = P(F=o|B=r)*P(B=r)/P(F=o)\n",
        "        P_r_given_o = (P_o_given_r * P_r) / P_o\n",
        "        P_b_given_o = (P_o_given_b * P_b) / P_o\n",
        "\n",
        "        print(f\"Probabilidad de que la fruta sea manzana (P(F=a)): {P_a:.4f}\")\n",
        "        print(f\"Probabilidad de que la fruta sea naranja (P(F=o)): {P_o:.4f}\")\n",
        "        print(\"\\nProbabilidades posteriores dado que la fruta es naranja:\")\n",
        "        print(f\"P(B=r|F=o): {P_r_given_o:.4f}\")\n",
        "        print(f\"P(B=b|F=o): {P_b_given_o:.4f}\")\n",
        "\n",
        "    elif fruta_seleccionada == 'manzana':\n",
        "        # P(B=r|F=a) = P(F=a|B=r)*P(B=r)/P(F=a)\n",
        "        P_r_given_a = (P_a_given_r * P_r) / P_a\n",
        "        P_b_given_a = (P_a_given_b * P_b) / P_a\n",
        "\n",
        "        print(f\"Probabilidad de que la fruta sea manzana (P(F=a)): {P_a:.4f}\")\n",
        "        print(f\"Probabilidad de que la fruta sea naranja (P(F=o)): {P_o:.4f}\")\n",
        "        print(\"\\nProbabilidades posteriores dado que la fruta es manzana:\")\n",
        "        print(f\"P(B=r|F=a): {P_r_given_a:.4f}\")\n",
        "        print(f\"P(B=b|F=a): {P_b_given_a:.4f}\")\n",
        "\n",
        "# Crear interfaz interactiva\n",
        "fruta_widget = widgets.RadioButtons(\n",
        "    options=['naranja', 'manzana'],\n",
        "    description='Selecciona una fruta:',\n",
        "    disabled=False\n",
        ")\n",
        "\n",
        "widgets.interactive(calcular_probabilidades, fruta_seleccionada=fruta_widget)"
      ]
    }
  ]
}